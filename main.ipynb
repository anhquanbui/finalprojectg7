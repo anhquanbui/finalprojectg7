{
 "cells": [
  {
   "cell_type": "code",
   "execution_count": 4,
   "id": "aeb03d61",
   "metadata": {},
   "outputs": [],
   "source": [
    "URL = \"https://raw.githubusercontent.com/anhquanbui/finalprojectg7/main/COVID_Parcel_Business.csv\""
   ]
  },
  {
   "cell_type": "code",
   "execution_count": 1,
   "id": "c71ebd29",
   "metadata": {},
   "outputs": [],
   "source": [
    "import pandas as pd"
   ]
  },
  {
   "cell_type": "code",
   "execution_count": 6,
   "id": "c92b3c12",
   "metadata": {},
   "outputs": [
    {
     "data": {
      "text/html": [
       "<div>\n",
       "<style scoped>\n",
       "    .dataframe tbody tr th:only-of-type {\n",
       "        vertical-align: middle;\n",
       "    }\n",
       "\n",
       "    .dataframe tbody tr th {\n",
       "        vertical-align: top;\n",
       "    }\n",
       "\n",
       "    .dataframe thead th {\n",
       "        text-align: right;\n",
       "    }\n",
       "</style>\n",
       "<table border=\"1\" class=\"dataframe\">\n",
       "  <thead>\n",
       "    <tr style=\"text-align: right;\">\n",
       "      <th></th>\n",
       "      <th>FakeCustomerID</th>\n",
       "      <th>THE_YEAR</th>\n",
       "      <th>THE_WEEK</th>\n",
       "      <th>VOLUME</th>\n",
       "    </tr>\n",
       "  </thead>\n",
       "  <tbody>\n",
       "    <tr>\n",
       "      <th>0</th>\n",
       "      <td>718117</td>\n",
       "      <td>2021</td>\n",
       "      <td>1</td>\n",
       "      <td>8</td>\n",
       "    </tr>\n",
       "    <tr>\n",
       "      <th>1</th>\n",
       "      <td>718117</td>\n",
       "      <td>2020</td>\n",
       "      <td>7</td>\n",
       "      <td>257</td>\n",
       "    </tr>\n",
       "    <tr>\n",
       "      <th>2</th>\n",
       "      <td>718117</td>\n",
       "      <td>2019</td>\n",
       "      <td>39</td>\n",
       "      <td>141</td>\n",
       "    </tr>\n",
       "    <tr>\n",
       "      <th>3</th>\n",
       "      <td>718117</td>\n",
       "      <td>2018</td>\n",
       "      <td>1</td>\n",
       "      <td>14</td>\n",
       "    </tr>\n",
       "    <tr>\n",
       "      <th>4</th>\n",
       "      <td>718117</td>\n",
       "      <td>2021</td>\n",
       "      <td>2</td>\n",
       "      <td>192</td>\n",
       "    </tr>\n",
       "    <tr>\n",
       "      <th>...</th>\n",
       "      <td>...</td>\n",
       "      <td>...</td>\n",
       "      <td>...</td>\n",
       "      <td>...</td>\n",
       "    </tr>\n",
       "    <tr>\n",
       "      <th>190714</th>\n",
       "      <td>228893</td>\n",
       "      <td>2019</td>\n",
       "      <td>13</td>\n",
       "      <td>30</td>\n",
       "    </tr>\n",
       "    <tr>\n",
       "      <th>190715</th>\n",
       "      <td>228893</td>\n",
       "      <td>2019</td>\n",
       "      <td>38</td>\n",
       "      <td>122</td>\n",
       "    </tr>\n",
       "    <tr>\n",
       "      <th>190716</th>\n",
       "      <td>228893</td>\n",
       "      <td>2019</td>\n",
       "      <td>48</td>\n",
       "      <td>99</td>\n",
       "    </tr>\n",
       "    <tr>\n",
       "      <th>190717</th>\n",
       "      <td>228893</td>\n",
       "      <td>2019</td>\n",
       "      <td>20</td>\n",
       "      <td>61</td>\n",
       "    </tr>\n",
       "    <tr>\n",
       "      <th>190718</th>\n",
       "      <td>228893</td>\n",
       "      <td>2019</td>\n",
       "      <td>19</td>\n",
       "      <td>56</td>\n",
       "    </tr>\n",
       "  </tbody>\n",
       "</table>\n",
       "<p>190719 rows × 4 columns</p>\n",
       "</div>"
      ],
      "text/plain": [
       "        FakeCustomerID  THE_YEAR  THE_WEEK  VOLUME\n",
       "0               718117      2021         1       8\n",
       "1               718117      2020         7     257\n",
       "2               718117      2019        39     141\n",
       "3               718117      2018         1      14\n",
       "4               718117      2021         2     192\n",
       "...                ...       ...       ...     ...\n",
       "190714          228893      2019        13      30\n",
       "190715          228893      2019        38     122\n",
       "190716          228893      2019        48      99\n",
       "190717          228893      2019        20      61\n",
       "190718          228893      2019        19      56\n",
       "\n",
       "[190719 rows x 4 columns]"
      ]
     },
     "execution_count": 6,
     "metadata": {},
     "output_type": "execute_result"
    }
   ],
   "source": [
    "df = pd.read_csv(URL)\n",
    "df"
   ]
  },
  {
   "cell_type": "code",
   "execution_count": 8,
   "id": "5f5c8bc8",
   "metadata": {},
   "outputs": [
    {
     "name": "stdout",
     "output_type": "stream",
     "text": [
      "<class 'pandas.core.frame.DataFrame'>\n",
      "RangeIndex: 190719 entries, 0 to 190718\n",
      "Data columns (total 4 columns):\n",
      " #   Column          Non-Null Count   Dtype\n",
      "---  ------          --------------   -----\n",
      " 0   FakeCustomerID  190719 non-null  int64\n",
      " 1   THE_YEAR        190719 non-null  int64\n",
      " 2   THE_WEEK        190719 non-null  int64\n",
      " 3   VOLUME          190719 non-null  int64\n",
      "dtypes: int64(4)\n",
      "memory usage: 5.8 MB\n"
     ]
    }
   ],
   "source": [
    "df.info(5)"
   ]
  }
 ],
 "metadata": {
  "kernelspec": {
   "display_name": "Python 3",
   "language": "python",
   "name": "python3"
  },
  "language_info": {
   "codemirror_mode": {
    "name": "ipython",
    "version": 3
   },
   "file_extension": ".py",
   "mimetype": "text/x-python",
   "name": "python",
   "nbconvert_exporter": "python",
   "pygments_lexer": "ipython3",
   "version": "3.13.1"
  }
 },
 "nbformat": 4,
 "nbformat_minor": 5
}
